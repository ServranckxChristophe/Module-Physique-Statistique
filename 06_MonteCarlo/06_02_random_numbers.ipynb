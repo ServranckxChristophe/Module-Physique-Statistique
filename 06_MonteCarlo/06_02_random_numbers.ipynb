{
 "cells": [
  {
   "cell_type": "markdown",
   "metadata": {},
   "source": [
    "# Random numbers"
   ]
  },
  {
   "cell_type": "markdown",
   "metadata": {},
   "source": [
    "Monte Carlo methods heavily rely on random numbers. Classical computers can only execute deterministic operations. In particular they cannot be used to generate stochastic quantities like random variables. However it is possible to design deterministic algorithms capable to generate series of number that, to some extent, resemble random numbers. In practical applications a large number of random numbers is required. It is therefore essential of being able to generate good quality random numbers efficiently. This is not such an easy task!\n",
    "\n",
    "Discussing all the practical and theoretical issues involved is beyond the scope of this introduction and we will rely on NumPy's built-in functions.\n",
    "\n",
    "To avoid confusion, let's recall a couple of definitions:\n",
    "\n",
    "- The **cumulative distribution function** $F(x)$ of a random process measures the probability for the outcome of an event to have a value less than or equal to $x$. Obviously we should have $F(x\\rightarrow -\\infty)=0$ and $F(x\\rightarrow \\infty)=1$.\n",
    "\n",
    "- The **probability distribution function** measures how likely the outcome of an event \"will be close\" to $x$. More precisely, it is defined as the derivative of the cumulative distribution,\n",
    "$$\n",
    "p(x)=\\frac{dF}{dx}(x)\\Leftrightarrow F(x)=\\int_{-\\infty}^x p(y)dy.\n",
    "$$\n",
    "In other words, for small $\\Delta x$, $p(x)\\Delta x$ represents the probability for the event to have a value lying between $x$ and $x+\\Delta x$."
   ]
  },
  {
   "cell_type": "markdown",
   "metadata": {},
   "source": [
    "## Uniform random distribution"
   ]
  },
  {
   "cell_type": "markdown",
   "metadata": {},
   "source": [
    "The most basic distribution function is the uniform distribution. It describes a sequence of random numbers that are distributed in a given interval $[a,b]$ with equal probability. As $p(x)$ is a constant in the interval $[a,b]$ and $\\int_{-\\infty}^{\\infty} p(x)dx = 1$, one has,\n",
    "$$\n",
    "p(x) = \n",
    "\\begin{cases} \\frac{1}{b-a} &\\mbox{if } x\\in [a,b] \\\\ \n",
    "0 & \\mbox{otherwise } \n",
    "\\end{cases} \n",
    "$$\n",
    "\n",
    "Let us see how to produce such a distribution using Python. As usual, we first import a few libraries."
   ]
  },
  {
   "cell_type": "code",
   "execution_count": 2,
   "metadata": {
    "collapsed": true
   },
   "outputs": [],
   "source": [
    "from matplotlib import pyplot\n",
    "import numpy\n",
    "%matplotlib inline\n",
    "from matplotlib import rcParams\n",
    "rcParams['font.family'] = 'serif'\n",
    "rcParams['font.size'] = 16"
   ]
  },
  {
   "cell_type": "code",
   "execution_count": 3,
   "metadata": {
    "collapsed": false
   },
   "outputs": [
    {
     "name": "stdout",
     "output_type": "stream",
     "text": [
      "0.4787200505128347\n"
     ]
    }
   ],
   "source": [
    "# Let's draw one random number\n",
    "x = numpy.random.random_sample()\n",
    "\n",
    "print(x)"
   ]
  },
  {
   "cell_type": "markdown",
   "metadata": {},
   "source": [
    "If you execute the above piece of code several times, you will notice that each time you will get a different number from 0 to 1. As the function `numpy.random.random_sample()` samples uniformly between 0 and 1, all the numbers in this interval have equal probabilities of being chosen (note that 0 is a possible output while 1 is excluded; one says that the numbers are drawn in the interval [0,1) instead of [0 1]). \n",
    "\n",
    "If you know in advance how many random numbers you would like to draw, you may also specify this as an option and `numpy.random.random_sample()` will return an appropriately sized array:"
   ]
  },
  {
   "cell_type": "code",
   "execution_count": 4,
   "metadata": {
    "collapsed": false,
    "scrolled": true
   },
   "outputs": [
    {
     "name": "stdout",
     "output_type": "stream",
     "text": [
      "[ 0.95564345  0.33232108  0.58214231  0.54525442  0.70937622  0.71674883\n",
      "  0.1260736   0.46991914  0.94340534  0.09583111]\n"
     ]
    }
   ],
   "source": [
    "# We draw ten random numbers\n",
    "x = numpy.random.random_sample(10)\n",
    "print(x)"
   ]
  },
  {
   "cell_type": "markdown",
   "metadata": {},
   "source": [
    "### Are the numbers really random?"
   ]
  },
  {
   "cell_type": "markdown",
   "metadata": {},
   "source": [
    "You may wonder how your computer is able to draw these random numbers and if they are really random. In fact, they are not. As we anticipated above, the internal algorithm produces a perfectly repeatable sequence of numbers that only look like random. In particular, after a (very) large number of draws, the sequence will repeat itself.\n",
    "\n",
    "When you start Python (through the notebook for example), the system picks a starting place in the sequence and then produces all the following numbers in the sequence at each call of the `numpy.random.random_sample()` function. You may however pick the starting place in the sequence yourself and therefore draw a perfectly reproducible set of numbers. This is done by specifying the so-called 'seed' of the generator like this:"
   ]
  },
  {
   "cell_type": "code",
   "execution_count": 5,
   "metadata": {
    "collapsed": false
   },
   "outputs": [
    {
     "name": "stdout",
     "output_type": "stream",
     "text": [
      "[ 0.5488135   0.71518937  0.60276338  0.54488318  0.4236548   0.64589411\n",
      "  0.43758721  0.891773    0.96366276  0.38344152]\n"
     ]
    }
   ],
   "source": [
    "numpy.random.seed(0)\n",
    "x = numpy.random.random_sample(10)\n",
    "print(x)"
   ]
  },
  {
   "cell_type": "markdown",
   "metadata": {},
   "source": [
    "If you repeat the above piece of code several times, you will observe that the floats returned are always identical! The seed, 0 in this case, is an integer that fixes a starting place in the sequence of \"pseudo-random\" numbers. Choose a different value for the seed and see what happens.\n",
    "\n",
    "Now try the following code:"
   ]
  },
  {
   "cell_type": "code",
   "execution_count": 6,
   "metadata": {
    "collapsed": false
   },
   "outputs": [
    {
     "name": "stdout",
     "output_type": "stream",
     "text": [
      "[ 0.5488135   0.71518937  0.60276338  0.54488318  0.4236548 ]\n",
      "[ 0.64589411  0.43758721  0.891773    0.96366276  0.38344152]\n"
     ]
    }
   ],
   "source": [
    "numpy.random.seed(0)\n",
    "x = numpy.random.random_sample(5)\n",
    "print(x)\n",
    "x = numpy.random.random_sample(5)\n",
    "print(x)\n"
   ]
  },
  {
   "cell_type": "markdown",
   "metadata": {},
   "source": [
    "Compare this to the previous 10 numbers generated (with seed=0). Do you see what is happening?\n",
    "\n",
    "Setting the seed of the random number generator can be very useful if you want to debug a code and have a repeatable output. However, when you perform a real computation, you should let the system pick a seed at random based on the date and time for example. This is done each time python starts but you may also do it yourself by calling `numpy.random.seed()` without any argument."
   ]
  },
  {
   "cell_type": "markdown",
   "metadata": {},
   "source": [
    "### Uniform distribution in the interval [a,b)"
   ]
  },
  {
   "cell_type": "markdown",
   "metadata": {},
   "source": [
    "Producing a sample of random numbers in the interval [a,b) instead of just [0,1) is easy. It is achieved by first drawing the numbers between 0 and 1 and then 'rescaling' the output:"
   ]
  },
  {
   "cell_type": "code",
   "execution_count": 7,
   "metadata": {
    "collapsed": false
   },
   "outputs": [
    {
     "name": "stdout",
     "output_type": "stream",
     "text": [
      "[ 16.87587557  12.9334238   13.52066842 ...,  10.58037146   7.94258142\n",
      "  17.10788368]\n"
     ]
    }
   ],
   "source": [
    "a=5\n",
    "b=20\n",
    "x = numpy.random.random_sample(10000)\n",
    "y = (b-a)*x+a\n",
    "print(y)"
   ]
  },
  {
   "cell_type": "markdown",
   "metadata": {},
   "source": [
    "## Visualising the histogram of the random sample"
   ]
  },
  {
   "cell_type": "markdown",
   "metadata": {},
   "source": [
    "Our little code above is designed to return a sample of numbers between 5 and 20 with equal probability and one therefore speaks of a uniform random distribution. A nice way of checking this consists in plotting the histogram of the random numbers generated. In a histogram, the interval of interest is first divided into smaller intervals called bins. For each bin, the histogram displays the number of occurances of the random sequence that have a value within the bin. Let's try it:"
   ]
  },
  {
   "cell_type": "code",
   "execution_count": 8,
   "metadata": {
    "collapsed": false
   },
   "outputs": [
    {
     "data": {
      "image/png": "[encoded data removed]",
      "text/plain": [
       "<matplotlib.figure.Figure at 0x7fa2d97d43c8>"
      ]
     },
     "metadata": {},
     "output_type": "display_data"
    }
   ],
   "source": [
    "binwidth=1\n",
    "pyplot.xlim(5,20)\n",
    "pyplot.hist(y,bins=numpy.arange(5.,21., binwidth),normed=True);"
   ]
  },
  {
   "cell_type": "markdown",
   "metadata": {},
   "source": [
    "By examining the histogram you should be able to confirm how many random numbers drawn above fall in each bin (in this case we have created bins that span the intervals [i,i+1) where i are the integers between 5 and 19).\n",
    "\n",
    "Of course, the above histogram is far from uniform; we only drew 10 random numbers so there was no chance of having the same number of occurances in each bin (we have 15 of them!). The distribution will only appear uniform if we draw a large amount of random numbers and the fluctuations in the histogram are smoothed out. Try it, redraw the histogram for 10000, or even 1000000 random numbers. \n",
    "\n",
    "Finally, you should draw the histogram with the option 'normed=True'. That way, all the values computed will be divided by the total number of random numbers drawn and provide the frequency of obtaining a random number in any given bin. As you increase the size of your random numbers sample and decrease the size of the bins, this frequency converges to the probability distribution function of the random numbers. Does it work?"
   ]
  },
  {
   "cell_type": "markdown",
   "metadata": {},
   "source": [
    "## Generation of other random distributions"
   ]
  },
  {
   "cell_type": "markdown",
   "metadata": {},
   "source": [
    "Although the uniform distribution is useful in many applications, one ofter requires the random numbers to be distributed according to another distrubtion. \n",
    "\n",
    "Two examples are the Gaussian distribution,\n",
    "\n",
    "$$\n",
    "p(x)=\\frac{1}{\\sigma \\sqrt{2\\pi}} e^{-\\frac12 (\\frac{x-\\mu}{\\sigma})^2},\n",
    "$$\n",
    "where $\\mu$ is the mean of the distribution and $\\sigma$ its standard deviation, or the exponential distribution,\n",
    "\n",
    "$$\n",
    "p(x)=\n",
    "\\begin{cases} \n",
    "\\alpha e^{-\\alpha x} &\\mbox{for } x\\geq 0 \\\\\n",
    "0 &\\mbox{if } x<0\n",
    "\\end{cases} \n",
    "$$\n",
    "\n",
    "where $\\alpha$ is the rate parameter. Many other distributions are useful and interesting."
   ]
  },
  {
   "cell_type": "markdown",
   "metadata": {
    "collapsed": true
   },
   "source": [
    "### Invertible distributions"
   ]
  },
  {
   "cell_type": "markdown",
   "metadata": {},
   "source": [
    "When the cumulative distribution function F is known and can be explicitely inverted, it is easy to produce the corresponding random generator using a uniform random generator in $[0, 1]$.\n",
    "\n",
    "Indeed, if the random process $X$ is distributed according to the uniform distribution we have $P(X<x)=U(x)$ with,\n",
    "$$\n",
    "U(x)=\n",
    "\\begin{cases} \n",
    "0 &\\mbox{if } x<0 \\\\\n",
    "x &\\mbox{if } x\\in [0,1] \\\\ \n",
    "1 &\\mbox{if } x>1\n",
    "\\end{cases} \n",
    "$$\n",
    "\n",
    "Say we want to generate a set of random numbers $Y$ for which the cumulative distribution is $F$. The trick to construct the set $Y$ is to apply $F^{-1}$ to the set $X$ since we then have,\n",
    "\n",
    "\\begin{align}\n",
    "P(Y<y) &= P(F^{-1}(X)<y) \\nonumber \\\\\n",
    "&= P(X<F(y)) \\nonumber \\\\\n",
    "&= U(F(y)) \\nonumber \\\\\n",
    "&= F(y)\\nonumber\n",
    "\\end{align}\n",
    "\n",
    "The last equality shows that $Y$ has the required cumulative distribution function.\n",
    "\n",
    "For example, take the exponential distribution. The cumulative distribution function is,\n",
    "$$\n",
    "F(x) =\n",
    "\\begin{cases} \n",
    "1 - e^{-\\alpha x} &\\mbox{for } x\\geq 0 \\\\\n",
    "0 &\\mbox{if } x<0\n",
    "\\end{cases} \n",
    "$$\n",
    "\n",
    "For $x\\in [0, 1]$, the inverse of this distribution is thus,\n",
    "\n",
    "$$\n",
    "F^{-1}(x) = -\\frac{1}{\\alpha}\\log(1-x).\n",
    "$$\n",
    "\n",
    "Let's see if that works."
   ]
  },
  {
   "cell_type": "code",
   "execution_count": 9,
   "metadata": {
    "collapsed": false
   },
   "outputs": [
    {
     "data": {
      "text/plain": [
       "[<matplotlib.lines.Line2D at 0x7fa2d8b38be0>]"
      ]
     },
     "execution_count": 9,
     "metadata": {},
     "output_type": "execute_result"
    },
    {
     "data": {
      "image/png": "[encoded data removed]",
      "text/plain": [
       "<matplotlib.figure.Figure at 0x7fa2d8b384a8>"
      ]
     },
     "metadata": {},
     "output_type": "display_data"
    }
   ],
   "source": [
    "alpha = 0.25 # rate of the exponential distribution\n",
    "x = numpy.random.random_sample(100000)\n",
    "y = -1/alpha*numpy.log(1-x)\n",
    "\n",
    "# Plots\n",
    "binwidth=0.5\n",
    "pyplot.xlim(0,20)\n",
    "bins=numpy.arange(0.,21., binwidth)\n",
    "pyplot.hist(y,bins,normed=True);\n",
    "\n",
    "# Compute centers of bins\n",
    "xc = bins[:-1] + binwidth/2\n",
    "pyplot.plot(xc,alpha*numpy.exp(-alpha*xc), lw=2)\n"
   ]
  },
  {
   "cell_type": "markdown",
   "metadata": {},
   "source": [
    "What do you think?"
   ]
  },
  {
   "cell_type": "markdown",
   "metadata": {},
   "source": [
    "### Von Neumann rejection method"
   ]
  },
  {
   "cell_type": "markdown",
   "metadata": {},
   "source": [
    "In this method, one generates a set of random numbers with a given distribution $p_1(x)$, and then cleverly extracts from it a subset that obeys the desired distribution $p_2(x)$. In order for the method to work, there must exist a constant K such that we have, \n",
    "\n",
    "$$\n",
    "{p_2(x)}\\leq {Kp_1(x)},\\quad \\forall x.\n",
    "$$\n",
    "\n",
    "As an example, let us try to produce a set of numbers distributed according to the positive Gaussian distribution (meaning we only want positive numbers). For that purpose, we may use the exponential distribution (with rate parameter $\\alpha =1$) as the starting distribution. Indeed, from the plot below, we see that the above criteria is met with $K=1.4$ ($K$ could have even been chosen a bit smaller)."
   ]
  },
  {
   "cell_type": "code",
   "execution_count": 10,
   "metadata": {
    "collapsed": false
   },
   "outputs": [
    {
     "data": {
      "text/plain": [
       "[<matplotlib.lines.Line2D at 0x7fa2da727630>]"
      ]
     },
     "execution_count": 10,
     "metadata": {},
     "output_type": "execute_result"
    },
    {
     "data": {
      "image/png": "[encoded data removed]",
      "text/plain": [
       "<matplotlib.figure.Figure at 0x7fa2da72a208>"
      ]
     },
     "metadata": {},
     "output_type": "display_data"
    }
   ],
   "source": [
    "nx=100\n",
    "\n",
    "xi =numpy.linspace(0,5,nx)\n",
    "\n",
    "f1=2*numpy.exp(-xi**2/2.0)/numpy.sqrt(2*numpy.pi)\n",
    "f2= 1.4*numpy.exp(-numpy.abs(xi))\n",
    "\n",
    "pyplot.plot(xi,f1)\n",
    "pyplot.plot(xi,f2)"
   ]
  },
  {
   "cell_type": "markdown",
   "metadata": {},
   "source": [
    "The algorithm works as follows. \n",
    "\n",
    "1. We generate a number $x$ according to the exponential distribution.\n",
    "2. We draw a random number $U$ between 0 and 1\n",
    "3. We keep the number $x$ in our final set of randoms numbers if $U<\\frac{p_2(x)}{Kp_1(x)}$.\n",
    "\n",
    "The third step is the clever part. Imagine we draw a total of $N$ random numbers distributed according to $p_1$. In such a set, the number of times we observe a value $x_1$ in an interval $\\Delta x$ centered around $x_1$ is about:\n",
    "\n",
    "$$\n",
    "n(x_1)\\approx N p_1(x_1)\\Delta x\n",
    "$$\n",
    "\n",
    "Because of step 3 this number will be reduced to\n",
    "\n",
    "$$\n",
    "n_f(x_1) \\approx n(x_1) \\frac{p_2(x_1)}{Kp_1(x)} = N\\frac{p_2(x_1) \\Delta x}{K}\n",
    "$$\n",
    "\n",
    "in the final set of random numbers. This implies that in this final set, the proportion of numbers centered around two values $x_1$ and $x_2$ is given by,\n",
    "\n",
    "$$\n",
    "\\frac{n_f(x_1)}{n_f(x_2)}=\\frac{p_2(x_1)}{p_2(x_2)}.\n",
    "$$\n",
    "\n",
    "We thus conclude that the resulting set of random numbers is indeed distributed according to $p_2$. Because of the step 3, we are systematically rejecting numbers from the initial sequence and the size $N_f$ of the final sequence is necessarilly smaller than the initial one ($N_f\\approx N/K$). Therefore we should carefully choose $p_1$ so that $K$ can be made as small as possible.\n",
    "\n",
    "Enough background, let us try the algorithm and see if it works as expected:"
   ]
  },
  {
   "cell_type": "code",
   "execution_count": 11,
   "metadata": {
    "collapsed": false
   },
   "outputs": [
    {
     "name": "stdout",
     "output_type": "stream",
     "text": [
      "Size of accepted set h and expected size 1/K: 71370 71428.57142857143\n"
     ]
    },
    {
     "data": {
      "text/plain": [
       "[<matplotlib.lines.Line2D at 0x7fa2d36a76a0>]"
      ]
     },
     "execution_count": 11,
     "metadata": {},
     "output_type": "execute_result"
    },
    {
     "data": {
      "image/png": "[encoded data removed]",
      "text/plain": [
       "<matplotlib.figure.Figure at 0x7fa2f873e240>"
      ]
     },
     "metadata": {},
     "output_type": "display_data"
    }
   ],
   "source": [
    "# Number of random numbers to draw according to p1 \n",
    "N = 100000\n",
    "K = 1.4\n",
    "\n",
    "# Empty list for the final set of numbers\n",
    "h=[]\n",
    "\n",
    "for i in range(N):\n",
    "    u1 = numpy.random.random_sample()\n",
    "    \n",
    "    # Distribute g according to the exponential distribution\n",
    "    g = numpy.log(1/(1-u1))\n",
    "    \n",
    "    # Generate a second number for the acceptance/rejection condition\n",
    "    u2 = numpy.random.random_sample()\n",
    "    \n",
    "    # Acceptance/rejection step\n",
    "    ratio = 2*numpy.exp(-g**2/2.0)/numpy.sqrt(2*numpy.pi) / \\\n",
    "                (K*numpy.exp(-g))\n",
    "    if (u2<ratio):\n",
    "        # Append g to the set h\n",
    "        h.append(g)\n",
    "\n",
    "# Size of the accepted set\n",
    "print(\"Size of accepted set h and expected size 1/K:\", len(h), N/K)\n",
    "\n",
    "# Plots\n",
    "binwidth=0.1\n",
    "bins=numpy.arange(0.,5.1, binwidth)\n",
    "pyplot.hist(h,bins=numpy.arange(0.,5., binwidth),normed=True,color='blue');\n",
    "\n",
    "# Compute centers of bins\n",
    "xc = bins[:-1] + binwidth/2\n",
    "pyplot.plot(xc,2*numpy.exp(-xc**2/2.0)/numpy.sqrt(2*numpy.pi),lw=3,color='green')\n"
   ]
  },
  {
   "cell_type": "markdown",
   "metadata": {},
   "source": [
    "Not bad! The algorithm produces the proper distribution and the final set has approximately the expected size. "
   ]
  },
  {
   "cell_type": "markdown",
   "metadata": {},
   "source": [
    "There are of course many ways to implement the Von Neumann rejection method. Here is another more efficient one making use of the `numpy.extract` method:"
   ]
  },
  {
   "cell_type": "code",
   "execution_count": 12,
   "metadata": {
    "collapsed": false
   },
   "outputs": [
    {
     "name": "stdout",
     "output_type": "stream",
     "text": [
      "Acceptance ratio: 0.71551\n"
     ]
    },
    {
     "data": {
      "text/plain": [
       "[<matplotlib.lines.Line2D at 0x7fa2d35947b8>]"
      ]
     },
     "execution_count": 12,
     "metadata": {},
     "output_type": "execute_result"
    },
    {
     "data": {
      "image/png": "[encoded data removed]",
      "text/plain": [
       "<matplotlib.figure.Figure at 0x7fa2d8c03978>"
      ]
     },
     "metadata": {},
     "output_type": "display_data"
    }
   ],
   "source": [
    "# Distribute g according to the exponential distribution\n",
    "uniform1 = numpy.random.random_sample(N)\n",
    "g = numpy.log(1/(1-uniform1))\n",
    "\n",
    "# Probabilty of drawing g according to the exponential distribution\n",
    "p_g_exp = numpy.exp(-g)\n",
    "\n",
    "# Probability of drawing g according to the (positive) normal distribution\n",
    "p_g_gauss = 2.0*numpy.exp(-g**2/2.0)/numpy.sqrt(2*numpy.pi)\n",
    "\n",
    "# Draw a second uniform distribution for the acceptance\n",
    "uniform2 = numpy.random.random_sample(N)\n",
    "\n",
    "# Create acceptance mask\n",
    "condition = uniform2 < p_g_gauss / (1.4*p_g_exp )\n",
    "\n",
    "# Extract the accepted random numbers\n",
    "h = numpy.extract(condition,g)\n",
    "\n",
    "# Print the acceptance ratio\n",
    "print(\"Acceptance ratio:\",h.size/g.size)\n",
    "\n",
    "# Plots\n",
    "binwidth=0.1\n",
    "bins=numpy.arange(0.,5.1, binwidth)\n",
    "pyplot.hist(h,bins,normed='true',color='blue');\n",
    "\n",
    "# Compute centers of bins\n",
    "xc = bins[:-1] + binwidth/2\n",
    "pyplot.plot(xc,2*numpy.exp(-xc**2/2.0)/numpy.sqrt(2*numpy.pi),lw=3,color='green')\n",
    "\n"
   ]
  },
  {
   "cell_type": "markdown",
   "metadata": {},
   "source": [
    "## Challenge\n",
    "\n",
    "1) Python has many built-in random number generators. Check-out the documentation and try a couple of ones. In particular, compare the output of the built-in expontential and Gaussian generators with the versions implemented above.\n",
    "\n",
    "2) Another popular method to generate numbers according to the Gaussian distribution is known as the Box–Muller algorithm. Look up its definition on the web, try to implement it and verify that it works as expected."
   ]
  },
  {
   "cell_type": "code",
   "execution_count": 13,
   "metadata": {
    "collapsed": false
   },
   "outputs": [
    {
     "ename": "FileNotFoundError",
     "evalue": "[Errno 2] No such file or directory: '../../styles/numericalmoocstyle.css'",
     "output_type": "error",
     "traceback": [
      "\u001b[1;31m---------------------------------------------------------------------------\u001b[0m",
      "\u001b[1;31mFileNotFoundError\u001b[0m                         Traceback (most recent call last)",
      "\u001b[1;32m<ipython-input-13-fde599084f9c>\u001b[0m in \u001b[0;36m<module>\u001b[1;34m()\u001b[0m\n\u001b[0;32m      1\u001b[0m \u001b[1;32mfrom\u001b[0m \u001b[0mIPython\u001b[0m\u001b[1;33m.\u001b[0m\u001b[0mcore\u001b[0m\u001b[1;33m.\u001b[0m\u001b[0mdisplay\u001b[0m \u001b[1;32mimport\u001b[0m \u001b[0mHTML\u001b[0m\u001b[1;33m\u001b[0m\u001b[0m\n\u001b[0;32m      2\u001b[0m \u001b[0mcss_file\u001b[0m \u001b[1;33m=\u001b[0m \u001b[1;34m'../../styles/numericalmoocstyle.css'\u001b[0m\u001b[1;33m\u001b[0m\u001b[0m\n\u001b[1;32m----> 3\u001b[1;33m \u001b[0mHTML\u001b[0m\u001b[1;33m(\u001b[0m\u001b[0mopen\u001b[0m\u001b[1;33m(\u001b[0m\u001b[0mcss_file\u001b[0m\u001b[1;33m,\u001b[0m \u001b[1;34m\"r\"\u001b[0m\u001b[1;33m)\u001b[0m\u001b[1;33m.\u001b[0m\u001b[0mread\u001b[0m\u001b[1;33m(\u001b[0m\u001b[1;33m)\u001b[0m\u001b[1;33m)\u001b[0m\u001b[1;33m\u001b[0m\u001b[0m\n\u001b[0m",
      "\u001b[1;31mFileNotFoundError\u001b[0m: [Errno 2] No such file or directory: '../../styles/numericalmoocstyle.css'"
     ]
    }
   ],
   "source": [
    "from IPython.core.display import HTML\n",
    "css_file = '../../styles/numericalmoocstyle.css'\n",
    "HTML(open(css_file, \"r\").read())"
   ]
  },
  {
   "cell_type": "markdown",
   "metadata": {},
   "source": [
    " Exercice 1:  \n",
    " - Distribution exponentielle générée avec \"alea.exponential(.,.)\":\n",
    " \n",
    " On importe depuis la bibliothèque numpy de python la fonction \" alea.exponential(scale,size) \" pour générer notre distribution exponentielle à partir d'un échantillon de taille N=100000 (qui correspond au nombre de nombres aléatoires).\n",
    " \n",
    " La courbe bleue est un fit de notre distribution par une fonction exponentielle de paramètre alpha et dont les valeurs de xc correspondent au centre des bins.\n",
    " \n",
    "     "
   ]
  },
  {
   "cell_type": "code",
   "execution_count": 20,
   "metadata": {
    "collapsed": false,
    "scrolled": false
   },
   "outputs": [
    {
     "data": {
      "text/plain": [
       "[<matplotlib.lines.Line2D at 0x7fa2d300cd30>]"
      ]
     },
     "execution_count": 20,
     "metadata": {},
     "output_type": "execute_result"
    },
    {
     "data": {
      "image/png": "[encoded data removed]",
      "text/plain": [
       "<matplotlib.figure.Figure at 0x7fa2d300ce80>"
      ]
     },
     "metadata": {},
     "output_type": "display_data"
    }
   ],
   "source": [
    "\n",
    "\n",
    "# Rate Parameter\n",
    "alpha = 0.25\n",
    "\n",
    "# exponential distribution\n",
    "z=alea.exponential(4,size=N) \n",
    "\n",
    "# Plots\n",
    "binwidth=0.5\n",
    "bins=numpy.arange(0.,21., binwidth)\n",
    "pyplot.hist(z,bins,normed='true',color='green');\n",
    "\n",
    "# Compute centers of bins\n",
    "xc = bins[:-1] + binwidth/2\n",
    "\n",
    "# Fit\n",
    "pyplot.plot(xc,alpha*numpy.exp(-alpha*xc), lw=2)"
   ]
  },
  {
   "cell_type": "markdown",
   "metadata": {},
   "source": [
    "- Distribution gaussienne générée avec \"numpy.random.normal(.,.,.)\":\n",
    "\n",
    "Grâce à la fonction \"numpy.random.normal(loc=.,scale=.,size=.)\" on génère une distribution Gaussienne de moyenne (=loc) égale à 0 et d'écart-type (=scale) 1.0 à partir de N=100000 éléments (=size)."
   ]
  },
  {
   "cell_type": "code",
   "execution_count": 15,
   "metadata": {
    "collapsed": false
   },
   "outputs": [
    {
     "data": {
      "text/plain": [
       "[<matplotlib.lines.Line2D at 0x7fa2d36cf0b8>]"
      ]
     },
     "execution_count": 15,
     "metadata": {},
     "output_type": "execute_result"
    },
    {
     "data": {
      "image/png": "[encoded data removed]",
      "text/plain": [
       "<matplotlib.figure.Figure at 0x7fa2d97c13c8>"
      ]
     },
     "metadata": {},
     "output_type": "display_data"
    }
   ],
   "source": [
    "# Gaussian distribution\n",
    "g=numpy.random.normal(loc=0, scale=1.0, size=N)\n",
    "\n",
    "# Plots\n",
    "binwidth=0.1\n",
    "bins=numpy.arange(0.,5.1, binwidth)\n",
    "pyplot.hist(g,bins,normed='true',color='blue');\n",
    "\n",
    "# Compute centers of bins\n",
    "xc = bins[:-1] + binwidth/2\n",
    "\n",
    "# Fit\n",
    "pyplot.plot(xc,2*numpy.exp(-(xc)**2/2.0)/numpy.sqrt(2*numpy.pi),lw=2,color='red')\n"
   ]
  },
  {
   "cell_type": "markdown",
   "metadata": {},
   "source": [
    "- Comparaison des méthodes des distributions exponentielles & Gaussiennes.\n",
    "\n",
    "Après avoir généré les distributions et testé les différents paramètres (écart-types, moyenne, ...), on constate que les fonctions fournies par la librairie Numpy reproduisent correctement ce que les algorithmes ci-dessus produisent.\n",
    "\n",
    "Concernant les paramètres de la distribution exponentielle, une différence mérite d'être soulignée.\n",
    "\n",
    "Le paramètre utilisé dans la première méthode est le \"rate\", alpha, tandis que dans la 2ème méthode il s'agit du paramètre d'échelle (\"scale parameter\"). La relation qui lie ces deux paramètres est donnée par : alpha=1/(scale parameter)"
   ]
  },
  {
   "cell_type": "code",
   "execution_count": 31,
   "metadata": {
    "collapsed": false
   },
   "outputs": [
    {
     "data": {
      "text/plain": [
       "[<matplotlib.lines.Line2D at 0x7fa2d219f4e0>]"
      ]
     },
     "execution_count": 31,
     "metadata": {},
     "output_type": "execute_result"
    },
    {
     "data": {
      "image/png": "[encoded data removed]",
      "text/plain": [
       "<matplotlib.figure.Figure at 0x7fa2d21c5358>"
      ]
     },
     "metadata": {},
     "output_type": "display_data"
    }
   ],
   "source": [
    "\n",
    "# Plots\n",
    "binwidth=0.1\n",
    "bins=numpy.arange(0.,5.1, binwidth)\n",
    "pyplot.hist(h,bins,normed='true',color='blue');\n",
    "\n",
    "binwidth=0.1\n",
    "bins=numpy.arange(0.,5.1, binwidth)\n",
    "pyplot.hist(g,bins,normed='true',color='green');\n",
    "\n",
    "# Compute centers of bins\n",
    "xc = bins[:-1] + binwidth/2\n",
    "pyplot.plot(xc,2*numpy.exp(-xc**2/2.0)/numpy.sqrt(2*numpy.pi),lw=3,color='yellow')\n",
    "pyplot.plot(xc,2*numpy.exp(-(xc)**2/2.0)/numpy.sqrt(2*numpy.pi),lw=2,color='red')\n"
   ]
  },
  {
   "cell_type": "markdown",
   "metadata": {
    "collapsed": true
   },
   "source": [
    "Exercice 2:\n",
    "\n",
    "Le but de la méthode Box-Muller est de générer des paires de nombres aléatoires qui suivent une distribution de loi normale. Ces distributions étant réalisées à partir d'un échantillon de nombre aléatoire uniformément distribué entre 0 et 1.\n",
    "\n",
    "Pour se faire, nous réalisons "
   ]
  },
  {
   "cell_type": "code",
   "execution_count": 27,
   "metadata": {
    "collapsed": false
   },
   "outputs": [
    {
     "data": {
      "text/plain": [
       "[<matplotlib.lines.Line2D at 0x7fa2d27713c8>]"
      ]
     },
     "execution_count": 27,
     "metadata": {},
     "output_type": "execute_result"
    },
    {
     "data": {
      "image/png": "[encoded data removed]",
      "text/plain": [
       "<matplotlib.figure.Figure at 0x7fa2d2b3a160>"
      ]
     },
     "metadata": {},
     "output_type": "display_data"
    }
   ],
   "source": [
    "from numpy import random, sqrt, log, sin, cos, pi\n",
    "\n",
    "\n",
    "# On définit la fonction de transformation\n",
    "def gaussian(x1,x2):\n",
    "  y1 = sqrt(-2*log(x1))*cos(2*pi*x2)\n",
    "  y2 = sqrt(-2*log(x1))*sin(2*pi*x2)\n",
    "  return y1,y2\n",
    "\n",
    "# On définit maintenant 2 variables aléatoires indépendantes uniformément distribuées entre 0 et 1.\n",
    "x1 = random.random_sample(100000)\n",
    "x2 = random.random_sample(100000)\n",
    "\n",
    "# Lance la transformation.\n",
    "y1,y2 = gaussian(x1,x2)\n",
    "\n",
    "# Graphe de y1\n",
    "binwidth=0.1\n",
    "bins=numpy.arange(-5.1,5.1, binwidth)\n",
    "pyplot.hist(y1,bins,normed='true',color='blue');\n",
    "\n",
    "\n",
    "# Calcul du centre des bins\n",
    "xc = bins[:-1] + binwidth/2\n",
    "\n",
    "# Courbe d'ajustement\n",
    "pyplot.plot(xc,numpy.exp(-(xc)**2/2.0)/numpy.sqrt(2*numpy.pi),lw=2,color='red')\n"
   ]
  },
  {
   "cell_type": "code",
   "execution_count": 28,
   "metadata": {
    "collapsed": false,
    "scrolled": true
   },
   "outputs": [
    {
     "data": {
      "text/plain": [
       "[<matplotlib.lines.Line2D at 0x7fa2d25a9c18>]"
      ]
     },
     "execution_count": 28,
     "metadata": {},
     "output_type": "execute_result"
    },
    {
     "data": {
      "image/png": "[encoded data removed]",
      "text/plain": [
       "<matplotlib.figure.Figure at 0x7fa2d2ef5550>"
      ]
     },
     "metadata": {},
     "output_type": "display_data"
    }
   ],
   "source": [
    "\n",
    "# Graphe de y2\n",
    "binwidth=0.1\n",
    "bins=numpy.arange(-5.1,5.1, binwidth)\n",
    "pyplot.hist(y2,bins,normed='true',color='green');\n",
    "\n",
    "# Calcul du centre des bins\n",
    "xc = bins[:-1] + binwidth/2\n",
    "\n",
    "# Courbe d'ajustement\n",
    "pyplot.plot(xc,numpy.exp(-(xc)**2/2.0)/numpy.sqrt(2*numpy.pi),lw=2,color='red')\n",
    "\n"
   ]
  },
  {
   "cell_type": "code",
   "execution_count": null,
   "metadata": {
    "collapsed": true
   },
   "outputs": [],
   "source": []
  },
  {
   "cell_type": "code",
   "execution_count": null,
   "metadata": {
    "collapsed": true
   },
   "outputs": [],
   "source": []
  },
  {
   "cell_type": "code",
   "execution_count": null,
   "metadata": {
    "collapsed": true
   },
   "outputs": [],
   "source": []
  },
  {
   "cell_type": "code",
   "execution_count": null,
   "metadata": {
    "collapsed": true
   },
   "outputs": [],
   "source": []
  },
  {
   "cell_type": "code",
   "execution_count": null,
   "metadata": {
    "collapsed": true
   },
   "outputs": [],
   "source": []
  }
 ],
 "metadata": {
  "kernelspec": {
   "display_name": "Python 3",
   "language": "python",
   "name": "python3"
  },
  "language_info": {
   "codemirror_mode": {
    "name": "ipython",
    "version": 3
   },
   "file_extension": ".py",
   "mimetype": "text/x-python",
   "name": "python",
   "nbconvert_exporter": "python",
   "pygments_lexer": "ipython3",
   "version": "3.4.3"
  }
 },
 "nbformat": 4,
 "nbformat_minor": 0
}
