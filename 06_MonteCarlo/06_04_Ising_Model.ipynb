{
 "cells": [
  {
   "cell_type": "markdown",
   "metadata": {},
   "source": [
    "# The Ising Model"
   ]
  },
  {
   "cell_type": "markdown",
   "metadata": {},
   "source": [
    "## A bit of theory"
   ]
  },
  {
   "cell_type": "markdown",
   "metadata": {},
   "source": [
    "The Ising model allows to study ferromagnetism and can be used to study what is known as a phase transition.\n",
    "\n",
    "Take a piece of iron at room temperature and subject it to a strong magnetic field (either using a permanent magnet or an electromagnet). After a while, switch off the magnetic field. You will observe that the piece of iron now acts itself  like a magnet. This property is shared by ferromagnetic materials which are able to sustain a non-zero magnetisation without any external field. However, this property vanishes above a certain temperature. This temperature is called the Curie temperature $T_c$, and depends on the ferromagnetic material considered. For iron,  $T_c$ is 1043 K. In thermodynamic terms we say that the ferromagnetic material undergoes a phase transition at the critical temperature $T_c$ since its properties change abruptly at that temperature.\n",
    "\n",
    "\n",
    "In the Ising model of ferromagnetism, the material considered is described using unit magnets, called dipoles, distributed on a regular lattice and that can either point upwards or downwards (see figure 1). These dipoles represent the atoms that constitute the material and act like magnets oriented in different directions.\n"
   ]
  },
  {
   "cell_type": "markdown",
   "metadata": {},
   "source": [
    "<img src=\"./figures/lattice1.png\" alt=\"Drawing\" style=\"width: 300px;\"/>\n",
    "Figure 1"
   ]
  },
  {
   "cell_type": "markdown",
   "metadata": {},
   "source": [
    "In the simplest version of the Ising model, all the dipoles interact with their nearest neighbors (left, right, above, below). When two neighbors are aligned, the system is in a more stable configuration than when they are aligned in opposite directions (you may observe a similar property if you put two compasses near each other). The energy of the system can then be written as,\n",
    "\n",
    "$$\n",
    "E=-J\\sum_{pairs(i,j)} s_i s_j,\n",
    "$$\n",
    "\n",
    "where the sum runs over all the pairs of dipoles in the system and $s_i$ denotes the 'spin' of the $i$-th dipole which is equal to $1$ or $-1$ wether the dipole points upwards or downwards; $J>0$ is the coupling constant for each pair of dipoles. We thus see that the energy is minimized and equal to $-JN_{pairs}$ when all the dipoles point in the same direction. \n",
    "\n",
    "Each time a dipole is flipped, the energy changes by an amount equal to,\n",
    "\n",
    "$$\n",
    "\\Delta E = -{J} s_i \\sum_{j \\in n(i)} s_j\n",
    "$$\n",
    "\n",
    "where $n(i)$ denotes all the neighbors of the $i$-th dipole. $\\Delta E$ is positive or negative depending on the sign of $s_i$ and the total spin of the neighbors.\n",
    "\n",
    "According to statistical mechanics, the probability of finding the system in a given configuration $X$ is equal to,\n",
    "\n",
    "$$\n",
    "p(X) = \\frac{e^{-\\beta E_X}}{Z}\n",
    "$$\n",
    "\n",
    "where $E_X$ is the potential energy of the configuration and $\\beta=1/k_B T$ where $k_B$ is the so-called Boltzmann constant. In other words, the higher the potential energy, the less likely it is to find the system in the corresponding configuration. In the above formula $Z$ is a normalisation constant such that $\\sum_X p(X)=1$,\n",
    "\n",
    "$$\n",
    "Z=\\sum_X e^{-\\beta E_X}.\n",
    "$$\n",
    "\n",
    "Knowing the probability of each state $X$ makes it possible to compute many quantities by simply performing averages (which is the whole idea behind statistical mechanics). For instance, the mean energy and the mean magnetisation are respectively,\n",
    "\n",
    "$$\n",
    "<E> = \\frac{\\sum_X E_X e^{-\\beta E_X}}{Z}\\\\\n",
    "<M> = \\frac{\\sum_X M_X e^{-\\beta E_X}}{Z}\n",
    "$$\n",
    "\n",
    "with $M_X=\\sum_{i=1}^N s_i$ for the given state. This quantity is particularly interesting as it is a signature for studying the phase transition. Above the Curie temperature, one has $<M>=0$ while $<M>$ has a finite non vanishing value below the Curie temperature.\n",
    "\n"
   ]
  },
  {
   "cell_type": "markdown",
   "metadata": {},
   "source": [
    "## The Metropolis algorithm"
   ]
  },
  {
   "cell_type": "markdown",
   "metadata": {},
   "source": [
    "Computing averages over all possible states poses a computational difficulty when the number of lattice points becomes large. For example, for a $100\\times100$ lattice, the number of possible states is $2^{10000}$ which is a huge number and makes brut force computation impossible. Thankfully, we can rely on stochastic methods and use, for instance, the Metropolis Monte Carlo algorithm.\n",
    "\n",
    "Let us consider an initial state in which each spin takes a random orientation. \n",
    "The unit step of the Metropolis algorithm consists in choosing a random spin and in attempting to change its orientation. If the energy of the reversed spin decreases, the flipped state is chosen as the new configuration of the system.\n",
    "Otherwise if the energy increases by $\\Delta E$, the flip is only accepted with the probability,\n",
    "\n",
    "$$\n",
    "p_{\\rm flip}=e^{-\\beta\\Delta E},\n",
    "$$\n",
    "\n",
    "otherwise the current state is retained as the new configuration. This process is repeated until a large enough number of states $X_k$ has been collected.\n",
    "\n",
    "The averages we are interested in, such as the energy or the magnetisation, are then computed according to,\n",
    "\n",
    "$$\n",
    "<E> = \\frac{\\sum_k E_k}{N_k}\\\\\n",
    "<M> = \\frac{\\sum_k M_k}{N_k}\n",
    "$$\n",
    "\n",
    "where the sums run over all the states generated through the Metropolis algorithm and $N_k$ is the total number of them.\n",
    "\n",
    "Compared to the averages over all possible states, we see here that we only sum over a subset of them. However, thanks to the Metropolis algorithm, the states corresponding to different values of the energy are generated with the right distribution function and the averages above converge to the equilibrium values as $N_k\\rightarrow \\infty$. Technically speaking, the (normed) histogram of the states generated with the Metropolis algorithm converges to the same histogram\n",
    "obtained using the full set of states weighted with their Boltzmann factor."
   ]
  },
  {
   "cell_type": "markdown",
   "metadata": {},
   "source": [
    "### Verification"
   ]
  },
  {
   "cell_type": "markdown",
   "metadata": {},
   "source": [
    "Instead of providing a formal proof that the Metropolis algorithm works, let us check this for a simplified system in which all the spins are fixed except at one location.\n",
    "\n",
    "Before doing so, we first adopt a non-dimensional unit system. \n",
    "Initially, our ferromagnetism problem has two parameters: the temperature $T$ and the coupling constant $J$. However, if we adopt as energy unit the product $k_b T$, our model has only one free parameter $\\alpha=J/(k_b T)$ and the relevant formulas read:\n",
    "\n",
    "$$\n",
    "\\Delta E = -{\\alpha} s_i \\sum_{j \\in n(i)} s_j \\\\\n",
    "p_{\\rm flip}=e^{-\\Delta E}\n",
    "$$\n",
    "\n",
    "Any two materials at given temperatures can be described by the same equations as long as they have the same value of $\\alpha$.\n",
    "\n",
    "We first import a few libaries and load a $10\\times 10$ initial state so that we all start from the same one."
   ]
  },
  {
   "cell_type": "code",
   "execution_count": 17,
   "metadata": {
    "collapsed": false
   },
   "outputs": [
    {
     "ename": "ImportError",
     "evalue": "No module named 'JSAnimation'",
     "output_type": "error",
     "traceback": [
      "\u001b[1;31m---------------------------------------------------------------------------\u001b[0m",
      "\u001b[1;31mImportError\u001b[0m                               Traceback (most recent call last)",
      "\u001b[1;32m<ipython-input-17-868c3a3ee785>\u001b[0m in \u001b[0;36m<module>\u001b[1;34m()\u001b[0m\n\u001b[0;32m      4\u001b[0m \u001b[1;32mfrom\u001b[0m \u001b[0mmatplotlib\u001b[0m \u001b[1;32mimport\u001b[0m \u001b[0manimation\u001b[0m\u001b[1;33m\u001b[0m\u001b[0m\n\u001b[0;32m      5\u001b[0m \u001b[1;32mimport\u001b[0m \u001b[0mmatplotlib\u001b[0m\u001b[1;33m.\u001b[0m\u001b[0mcm\u001b[0m \u001b[1;32mas\u001b[0m \u001b[0mcm\u001b[0m\u001b[1;33m\u001b[0m\u001b[0m\n\u001b[1;32m----> 6\u001b[1;33m \u001b[1;32mfrom\u001b[0m \u001b[0mJSAnimation\u001b[0m\u001b[1;33m.\u001b[0m\u001b[0mIPython_display\u001b[0m \u001b[1;32mimport\u001b[0m \u001b[0mdisplay_animation\u001b[0m\u001b[1;33m\u001b[0m\u001b[0m\n\u001b[0m",
      "\u001b[1;31mImportError\u001b[0m: No module named 'JSAnimation'"
     ]
    }
   ],
   "source": [
    "%matplotlib inline\n",
    "import numpy\n",
    "from matplotlib import pyplot\n",
    "from matplotlib import animation\n",
    "import matplotlib.cm as cm\n",
    "from JSAnimation.IPython_display import display_animation"
   ]
  },
  {
   "cell_type": "code",
   "execution_count": 18,
   "metadata": {
    "collapsed": false
   },
   "outputs": [
    {
     "data": {
      "text/plain": [
       "<matplotlib.image.AxesImage at 0x7f3f56fd94e0>"
      ]
     },
     "execution_count": 18,
     "metadata": {},
     "output_type": "execute_result"
    },
    {
     "data": {
      "image/png": "[encoded data removed]",
      "text/plain": [
       "<matplotlib.figure.Figure at 0x7f3f5c123438>"
      ]
     },
     "metadata": {},
     "output_type": "display_data"
    }
   ],
   "source": [
    "nx=10\n",
    "ny=10\n",
    "\n",
    "# Non-dimensional coupling constant J/(kb*T)\n",
    "alpha = 0.1\n",
    "\n",
    "# Initial spins at each site\n",
    "sp = numpy.load('initial_state.npy')\n",
    "\n",
    "pyplot.figure(figsize=(6,6))\n",
    "pyplot.imshow(sp,interpolation=\"none\",origin='lower')"
   ]
  },
  {
   "cell_type": "markdown",
   "metadata": {},
   "source": [
    "Blue and red represent respectively sites that have their spins pointing down or up. Focus now the attention on the site with coordinates (x,y)=(5,5). It pointing down and has three neighbors pointing up and one pointing down.\n",
    "\n",
    "We may compute the contribution to the energy coming from this site with the following subroutine (we assume that the system is periodic in both directions):"
   ]
  },
  {
   "cell_type": "code",
   "execution_count": 19,
   "metadata": {
    "collapsed": false
   },
   "outputs": [],
   "source": [
    "def energy_at_site(sp,alpha,sigma,ix,iy):\n",
    "    \"\"\" Computes the contribution to the energy for a given spin\n",
    "    at location ix,iy for a lattice with periodic boundary conditions\n",
    "   \n",
    "    Parameters:\n",
    "    ----------\n",
    "    sp: numpy array\n",
    "        array of spins\n",
    "    alpha  : real\n",
    "        coupling constant J/(kb*T)\n",
    "    sigma   : int\n",
    "        spin at site ix,iy\n",
    "    ix   : int\n",
    "        location in x\n",
    "    iy   : int\n",
    "        location in y\n",
    "    \n",
    "   \n",
    "    Returns:\n",
    "    -------\n",
    "    energy: energy for the given configuration\n",
    "    \"\"\"\n",
    "    \n",
    "    energy=-alpha*sigma*(sp[(ix-1)%nx,iy]+sp[(ix+1)%nx,iy]+sp[ix,(iy-1)%ny]+sp[ix,(iy+1)%ny])\n",
    "\n",
    "    return energy\n",
    "\n"
   ]
  },
  {
   "cell_type": "markdown",
   "metadata": {},
   "source": [
    "In this case, we have:"
   ]
  },
  {
   "cell_type": "code",
   "execution_count": 20,
   "metadata": {
    "collapsed": false
   },
   "outputs": [
    {
     "name": "stdout",
     "output_type": "stream",
     "text": [
      "0.2\n"
     ]
    }
   ],
   "source": [
    "print(energy_at_site(sp,alpha,-1,5,5))"
   ]
  },
  {
   "cell_type": "markdown",
   "metadata": {},
   "source": [
    "If we flip the dipole at site (5,5) we get:"
   ]
  },
  {
   "cell_type": "code",
   "execution_count": 11,
   "metadata": {
    "collapsed": false
   },
   "outputs": [
    {
     "name": "stdout",
     "output_type": "stream",
     "text": [
      "-0.2\n"
     ]
    }
   ],
   "source": [
    "print(energy_at_site(sp,alpha,1,5,5))"
   ]
  },
  {
   "cell_type": "markdown",
   "metadata": {},
   "source": [
    "We conclude that the configuration with the spin pointing upwards has a lower energy. So as the dipole continually flips because of thermal fluctuations, it should be more frequently in that direction. The relative probability of having the spin down compared to the spin up is:\n",
    "\n",
    "$$\n",
    "\\frac{p({\\rm up})}{p({\\rm downs})} = e^{-\\Delta E}=e^{0.4}\\approx 1.49\n",
    "$$"
   ]
  },
  {
   "cell_type": "markdown",
   "metadata": {},
   "source": [
    "Let's see if we can reproduce this result using a sequence of states generated with the Metropolis algorithm. To that end we first define a routine that flips the state at a given position with a probability $p_{\\rm flip}=e^{-\\Delta E}$:"
   ]
  },
  {
   "cell_type": "code",
   "execution_count": 21,
   "metadata": {
    "collapsed": false
   },
   "outputs": [],
   "source": [
    "def metropolis_at_site(sp,alpha,ix,iy):\n",
    "    \"\"\" Flips a dipole at site ix, iy when probability condition is met \n",
    "   \n",
    "    Parameters:\n",
    "    ----------\n",
    "    sp: numpy array\n",
    "        array of spins\n",
    "    alpha  : real\n",
    "        coupling constant J/(kb*T)\n",
    "    ix   : int\n",
    "        location in x\n",
    "    iy   : int\n",
    "        location in y\n",
    "    \"\"\"\n",
    "    sigma=sp[ix,iy]\n",
    "    energy_before_flip = energy_at_site(sp,alpha,sigma,ix,iy)\n",
    "    sigma = -sigma\n",
    "    energy_if_site_flipped = energy_at_site(sp,alpha,sigma,ix,iy)\n",
    "    \n",
    "    # Flip the site with Metropolis probability\n",
    "    # Condition is always satisifed if dE < 0\n",
    "    if (numpy.random.random_sample()<numpy.exp(-(energy_if_site_flipped \\\n",
    "                                               -energy_before_flip))):\n",
    "        sp[ix,iy]=-sp[ix,iy]"
   ]
  },
  {
   "cell_type": "markdown",
   "metadata": {},
   "source": [
    "Now generate a sequence of states with the Metropolis algorithm and compute the ratio of states pointing upwards or downwards:"
   ]
  },
  {
   "cell_type": "code",
   "execution_count": 22,
   "metadata": {
    "collapsed": false
   },
   "outputs": [
    {
     "name": "stdout",
     "output_type": "stream",
     "text": [
      "1.4879954220884233\n"
     ]
    }
   ],
   "source": [
    "NMC = 100000\n",
    "states = numpy.empty(NMC+1)\n",
    "states[0]=sp[5,5]\n",
    "\n",
    "for n in range(0,NMC):\n",
    "    metropolis_at_site(sp,alpha,5,5)\n",
    "    states[n]=sp[5,5]\n",
    "\n",
    "ups = numpy.extract(states==1, states).size\n",
    "downs = NMC - ups\n",
    "print(ups/downs)"
   ]
  },
  {
   "cell_type": "markdown",
   "metadata": {},
   "source": [
    "Not bad! We see that the Metropolis algorithm generated the right proportion of states with the dipole pointing up or down (the ratio converges to the expected value as the number of states generated is increased). \n",
    "\n",
    "**Challenge:** Check that this is not a coincidence and try again for different lattice configurations. You may use the following routine to generate different ones with random initial dipole orientations."
   ]
  },
  {
   "cell_type": "code",
   "execution_count": 23,
   "metadata": {
    "collapsed": false
   },
   "outputs": [
    {
     "data": {
      "text/plain": [
       "<matplotlib.image.AxesImage at 0x7f3f56fba898>"
      ]
     },
     "execution_count": 23,
     "metadata": {},
     "output_type": "execute_result"
    },
    {
     "data": {
      "image/png": "[encoded data removed]",
      "text/plain": [
       "<matplotlib.figure.Figure at 0x7f3f56fe0f98>"
      ]
     },
     "metadata": {},
     "output_type": "display_data"
    }
   ],
   "source": [
    "\n",
    "nx=10\n",
    "ny=10\n",
    "\n",
    "# Non-dimensional coupling constant J/(kb*T)\n",
    "alpha = 0.1\n",
    "\n",
    "def initial_state(nx,ny):\n",
    "    \"\"\" Creates a lattice with random spin orientations\n",
    "   \n",
    "    Parameters:\n",
    "    ----------\n",
    "    nx   : int\n",
    "        Discretization points in x\n",
    "    ny   : int\n",
    "        Discretization points in y\n",
    "   \n",
    "    Returns:\n",
    "    -------\n",
    "    r: 2D array of spins\n",
    "    \"\"\"\n",
    "       \n",
    "    # Uniform random spins between 0 and 1  \n",
    "    r = numpy.random.random_integers(0,1,(nx,ny))\n",
    "    \n",
    "    #Where r=0, we assign a negative spin\n",
    "    r[r==0] =-1\n",
    "\n",
    "    return r\n",
    "\n",
    "# Initial spins at each site\n",
    "sp = numpy.load('initial_state.npy')\n",
    "\n",
    "pyplot.figure(figsize=(6,6))\n",
    "pyplot.imshow(sp,interpolation=\"none\",origin='lower')\n"
   ]
  },
  {
   "cell_type": "code",
   "execution_count": 24,
   "metadata": {
    "collapsed": false
   },
   "outputs": [
    {
     "name": "stdout",
     "output_type": "stream",
     "text": [
      "0.2\n"
     ]
    }
   ],
   "source": [
    "def energy_at_site(sp,alpha,sigma,ix,iy):\n",
    "    \"\"\" Computes the contribution to the energy for a given spin\n",
    "    at location ix,iy for a lattice with periodic boundary conditions\n",
    "   \n",
    "    Parameters:\n",
    "    ----------\n",
    "    sp: numpy array\n",
    "        array of spins\n",
    "    alpha  : real\n",
    "        coupling constant J/(kb*T)\n",
    "    sigma   : int\n",
    "        spin at site ix,iy\n",
    "    ix   : int\n",
    "        location in x\n",
    "    iy   : int\n",
    "        location in y\n",
    "    \n",
    "   \n",
    "    Returns:\n",
    "    -------\n",
    "    energy: energy for the given configuration\n",
    "    \"\"\"\n",
    "    \n",
    "    energy=-alpha*sigma*(sp[(ix-1)%nx,iy]+sp[(ix+1)%nx,iy]+sp[ix,(iy-1)%ny]+sp[ix,(iy+1)%ny])\n",
    "\n",
    "    return energy\n",
    "print(energy_at_site(sp,alpha,-1,5,5))\n"
   ]
  },
  {
   "cell_type": "markdown",
   "metadata": {},
   "source": [
    "## Back to the Ising Model"
   ]
  },
  {
   "cell_type": "markdown",
   "metadata": {},
   "source": [
    "Our objective in this section is to show that the ferromagnetic material is indeed subject to a phase transition at a given coupling constant $\\alpha$ by using the Metropolis algorithm to generate a sequence of lattices with the right probabilities.\n",
    "\n",
    "We first initialize the lattice with all spins pointing upwards (i.e. we assume that the material has been completely magnetized)."
   ]
  },
  {
   "cell_type": "code",
   "execution_count": 26,
   "metadata": {
    "collapsed": false
   },
   "outputs": [],
   "source": [
    "nx = 100\n",
    "ny = 100\n",
    "\n",
    "sp = numpy.ones([nx,ny])"
   ]
  },
  {
   "cell_type": "markdown",
   "metadata": {},
   "source": [
    "We now need a routine to create a sequence of states by trying to flip the spins at random sites if the Metropolis condition is satisfied. Note that instead of keeping all the states, we attempt $nx*ny$ flips between the retained ones so that the system has a chance to change significantly."
   ]
  },
  {
   "cell_type": "code",
   "execution_count": 25,
   "metadata": {
    "collapsed": false
   },
   "outputs": [],
   "source": [
    "def ising_model_metropolis(sp, NMC, nx, ny, alpha):\n",
    "    \"\"\" Creates a sequence of states for the Ising model using\n",
    "    the Metropolis algorithm\n",
    "   \n",
    "    Parameters:\n",
    "    ----------\n",
    "    sp   : initial lattice state\n",
    "    nx   : int\n",
    "        Discretization points in x\n",
    "    ny   : int\n",
    "        Discretization points in y\n",
    "    NMC  : int\n",
    "        Number of states to create\n",
    "    alpha  : real\n",
    "        coupling constant J/(kb*T)\n",
    "    Returns:\n",
    "    -------\n",
    "    states: sequence of states\n",
    "    \"\"\"\n",
    "    states = numpy.empty([NMC+1,nx,ny])\n",
    "    states[0] = sp.copy()\n",
    "    \n",
    "    for i in range(1,NMC+1):\n",
    "        for j in range(0,nx*ny):\n",
    "            ix=numpy.random.random_integers(0,nx-1)\n",
    "            iy=numpy.random.random_integers(0,ny-1)\n",
    "            metropolis_at_site(sp,alpha,ix,iy)\n",
    "        states[i]=sp.copy()\n",
    "    return states"
   ]
  },
  {
   "cell_type": "markdown",
   "metadata": {},
   "source": [
    "OK, let's compare what happens for two different values of the coupling constant $\\alpha$. In the examples below, we gather 100 states; this number is quite low as we want to keep modest simulation times."
   ]
  },
  {
   "cell_type": "code",
   "execution_count": 27,
   "metadata": {
    "collapsed": false
   },
   "outputs": [],
   "source": [
    "NMC=100\n",
    "alpha=0.2\n",
    "\n",
    "states_0_2 = ising_model_metropolis(sp, NMC, nx, ny, alpha)"
   ]
  },
  {
   "cell_type": "code",
   "execution_count": 28,
   "metadata": {
    "collapsed": false
   },
   "outputs": [],
   "source": [
    "NMC=100\n",
    "sp = numpy.ones([nx,ny])\n",
    "alpha=0.7\n",
    "states_0_7 = ising_model_metropolis(sp, NMC, nx, ny, alpha)"
   ]
  },
  {
   "cell_type": "code",
   "execution_count": 29,
   "metadata": {
    "collapsed": false
   },
   "outputs": [
    {
     "data": {
      "text/plain": [
       "<matplotlib.animation.FuncAnimation at 0x7f3f57d6beb8>"
      ]
     },
     "execution_count": 29,
     "metadata": {},
     "output_type": "execute_result"
    },
    {
     "data": {
      "image/png": "[encoded data removed]",
      "text/plain": [
       "<matplotlib.figure.Figure at 0x7f3f57d5dac8>"
      ]
     },
     "metadata": {},
     "output_type": "display_data"
    }
   ],
   "source": [
    "fig = pyplot.figure(figsize=(10,10))\n",
    "pyplot.subplot(1, 2, 1)\n",
    "img1 = pyplot.imshow(states_0_2[0],interpolation=\"none\",origin='lower',\\\n",
    "                     vmin=-1, vmax=1)\n",
    "\n",
    "pyplot.subplot(1, 2, 2)\n",
    "img2 = pyplot.imshow(states_0_7[0],interpolation=\"none\",origin='lower',\\\n",
    "                     vmin=-1, vmax=1)\n",
    "\n",
    "# Animate\n",
    "def animate(i):\n",
    "    img1.set_array(states_0_2[i])\n",
    "    img2.set_array(states_0_7[i])\n",
    "\n",
    "animation.FuncAnimation(fig, animate, frames=NMC, interval=200)"
   ]
  },
  {
   "cell_type": "markdown",
   "metadata": {},
   "source": [
    "Great! We see that for $\\alpha=0.2$, the spins remain disorganised while for $\\alpha=0.7$ the system remains nearly completely magnetized. Does this make sense according to the theory we have outlined at the beginning of the notebook? Let's also look at the evolution of the total spin (magnetisation) as the sequence is generated."
   ]
  },
  {
   "cell_type": "code",
   "execution_count": 30,
   "metadata": {
    "collapsed": false
   },
   "outputs": [
    {
     "data": {
      "image/png": "[encoded data removed]",
      "text/plain": [
       "<matplotlib.figure.Figure at 0x7f3f57d41978>"
      ]
     },
     "metadata": {},
     "output_type": "display_data"
    }
   ],
   "source": [
    "pyplot.figure()\n",
    "pyplot.plot(states_0_7.sum(axis=(1,2)),label=r'$\\alpha=0.7$')\n",
    "pyplot.plot(states_0_2.sum(axis=(1,2)),label=r'$\\alpha=0.2$')\n",
    "pyplot.legend()\n",
    "pyplot.tight_layout()"
   ]
  },
  {
   "cell_type": "markdown",
   "metadata": {},
   "source": [
    "In both cases, the initial magnetisation is maximum. For $\\alpha=0.2$, it rapidly decays and oscillates around a vanishing value; for $\\alpha=0.7$, the magnetisation remains maxiumum. \n",
    "\n",
    "For $\\alpha=2$, it takes a finite time before the system reaches a statistically steady state. In such case, when taking averages over the sequence of states to estimate a physical quantity, it might be necessary to sample more states and remove the initial ones which are far from equilibrium and that bias statistical averages. This is especially true close to the critical temperature as the magnetization decays rather slowly. "
   ]
  },
  {
   "cell_type": "markdown",
   "metadata": {},
   "source": [
    "## Challenge\n",
    "\n",
    "- Perform a series of runs with $\\alpha \\in [0 1]$ and plot the average energy of the system and its magnetisation as a function of $\\alpha$. Estimate the critical value of $\\alpha$ at which the phase transition occurs. Is it compatible with Onsager's exact solution for the system?\n",
    "- Redo the analysis with a different set of boundary conditions for the lattice and a different initial lattice configuration. For example, you could assume that on the borders all the spins are pointing upwards on the borders while they are randomly oriented in the bulk."
   ]
  },
  {
   "cell_type": "code",
   "execution_count": 15,
   "metadata": {
    "collapsed": false
   },
   "outputs": [
    {
     "data": {
      "text/html": [
       "<link href='http://fonts.googleapis.com/css?family=Alegreya+Sans:100,300,400,500,700,800,900,100italic,300italic,400italic,500italic,700italic,800italic,900italic' rel='stylesheet' type='text/css'>\n",
       "<link href='http://fonts.googleapis.com/css?family=Arvo:400,700,400italic' rel='stylesheet' type='text/css'>\n",
       "<link href='http://fonts.googleapis.com/css?family=PT+Mono' rel='stylesheet' type='text/css'>\n",
       "<link href='http://fonts.googleapis.com/css?family=Shadows+Into+Light' rel='stylesheet' type='text/css'>\n",
       "<link href='http://fonts.googleapis.com/css?family=Nixie+One' rel='stylesheet' type='text/css'>\n",
       "<link href='https://fonts.googleapis.com/css?family=Source+Code+Pro' rel='stylesheet' type='text/css'>\n",
       "<style>\n",
       "\n",
       "@font-face {\n",
       "    font-family: \"Computer Modern\";\n",
       "    src: url('http://mirrors.ctan.org/fonts/cm-unicode/fonts/otf/cmunss.otf');\n",
       "}\n",
       "\n",
       "#notebook_panel { /* main background */\n",
       "    background: rgb(245,245,245);\n",
       "}\n",
       "\n",
       "div.cell { /* set cell width */\n",
       "    width: 750px;\n",
       "}\n",
       "\n",
       "div #notebook { /* centre the content */\n",
       "    background: #fff; /* white background for content */\n",
       "    width: 1000px;\n",
       "    margin: auto;\n",
       "    padding-left: 0em;\n",
       "}\n",
       "\n",
       "#notebook li { /* More space between bullet points */\n",
       "    margin-top:0.8em;\n",
       "}\n",
       "\n",
       "/* draw border around running cells */\n",
       "div.cell.border-box-sizing.code_cell.running { \n",
       "    border: 1px solid #111;\n",
       "}\n",
       "\n",
       "/* Put a solid color box around each cell and its output, visually linking them*/\n",
       "div.cell.code_cell {\n",
       "    background-color: rgb(256,256,256); \n",
       "    border-radius: 0px; \n",
       "    padding: 0.5em;\n",
       "    margin-left:1em;\n",
       "    margin-top: 1em;\n",
       "}\n",
       "\n",
       "div.text_cell_render{\n",
       "    font-family: 'Alegreya Sans' sans-serif;\n",
       "    line-height: 140%;\n",
       "    font-size: 125%;\n",
       "    font-weight: 400;\n",
       "    width:600px;\n",
       "    margin-left:auto;\n",
       "    margin-right:auto;\n",
       "}\n",
       "\n",
       "\n",
       "/* Formatting for header cells */\n",
       ".text_cell_render h1 {\n",
       "    font-family: 'Nixie One', serif;\n",
       "    font-style:regular;\n",
       "    font-weight: 400;    \n",
       "    font-size: 45pt;\n",
       "    line-height: 100%;\n",
       "    color: rgb(0,51,102);\n",
       "    margin-bottom: 0.5em;\n",
       "    margin-top: 0.5em;\n",
       "    display: block;\n",
       "}\n",
       "\n",
       ".text_cell_render h2 {\n",
       "    font-family: 'Nixie One', serif;\n",
       "    font-weight: 400;\n",
       "    font-size: 30pt;\n",
       "    line-height: 100%;\n",
       "    color: rgb(0,51,102);\n",
       "    margin-bottom: 0.1em;\n",
       "    margin-top: 0.3em;\n",
       "    display: block;\n",
       "}\t\n",
       "\n",
       ".text_cell_render h3 {\n",
       "    font-family: 'Nixie One', serif;\n",
       "    margin-top:16px;\n",
       "    font-size: 22pt;\n",
       "    font-weight: 600;\n",
       "    margin-bottom: 3px;\n",
       "    font-style: regular;\n",
       "    color: rgb(102,102,0);\n",
       "}\n",
       "\n",
       ".text_cell_render h4 {    /*Use this for captions*/\n",
       "    font-family: 'Nixie One', serif;\n",
       "    font-size: 14pt;\n",
       "    text-align: center;\n",
       "    margin-top: 0em;\n",
       "    margin-bottom: 2em;\n",
       "    font-style: regular;\n",
       "}\n",
       "\n",
       ".text_cell_render h5 {  /*Use this for small titles*/\n",
       "    font-family: 'Nixie One', sans-serif;\n",
       "    font-weight: 400;\n",
       "    font-size: 16pt;\n",
       "    color: rgb(163,0,0);\n",
       "    font-style: italic;\n",
       "    margin-bottom: .1em;\n",
       "    margin-top: 0.8em;\n",
       "    display: block;\n",
       "}\n",
       "\n",
       ".text_cell_render h6 { /*use this for copyright note*/\n",
       "    font-family: 'PT Mono', sans-serif;\n",
       "    font-weight: 300;\n",
       "    font-size: 9pt;\n",
       "    line-height: 100%;\n",
       "    color: grey;\n",
       "    margin-bottom: 1px;\n",
       "    margin-top: 1px;\n",
       "}\n",
       "\n",
       ".CodeMirror{\n",
       "    font-family: \"Source Code Pro\";\n",
       "    font-size: 90%;\n",
       "}\n",
       "\n",
       ".alert-box {\n",
       "    padding:10px 10px 10px 36px;\n",
       "    margin:5px;\n",
       "}\n",
       "\n",
       ".success {\n",
       "    color:#666600;\n",
       "    background:rgb(240,242,229);\n",
       "}\n",
       "</style>\n",
       "<script>\n",
       "    MathJax.Hub.Config({\n",
       "                        TeX: {\n",
       "                           extensions: [\"AMSmath.js\"],\n",
       "                           equationNumbers: { autoNumber: \"AMS\", useLabelIds: true}\n",
       "                           },\n",
       "                tex2jax: {\n",
       "                    inlineMath: [ ['$','$'], [\"\\\\(\",\"\\\\)\"] ],\n",
       "                    displayMath: [ ['$$','$$'], [\"\\\\[\",\"\\\\]\"] ]\n",
       "                },\n",
       "                displayAlign: 'center', // Change this to 'center' to center equations.\n",
       "                \"HTML-CSS\": {\n",
       "                    styles: {'.MathJax_Display': {\"margin\": 4}}\n",
       "                }\n",
       "        });\n",
       "</script>\n"
      ],
      "text/plain": [
       "<IPython.core.display.HTML object>"
      ]
     },
     "execution_count": 15,
     "metadata": {},
     "output_type": "execute_result"
    }
   ],
   "source": [
    "from IPython.core.display import HTML\n",
    "css_file = '../../styles/numericalmoocstyle.css'\n",
    "HTML(open(css_file, \"r\").read())"
   ]
  },
  {
   "cell_type": "markdown",
   "metadata": {},
   "source": [
    "### Exercice 1:"
   ]
  },
  {
   "cell_type": "code",
   "execution_count": 31,
   "metadata": {
    "collapsed": false
   },
   "outputs": [
    {
     "name": "stdout",
     "output_type": "stream",
     "text": [
      "0.0\n"
     ]
    },
    {
     "data": {
      "text/plain": [
       "[<matplotlib.lines.Line2D at 0x7f3f55ce80f0>]"
      ]
     },
     "execution_count": 31,
     "metadata": {},
     "output_type": "execute_result"
    },
    {
     "data": {
      "image/png": "[encoded data removed]",
      "text/plain": [
       "<matplotlib.figure.Figure at 0x7f3f562d9748>"
      ]
     },
     "metadata": {},
     "output_type": "display_data"
    }
   ],
   "source": [
    "# Non-dimensional coupling constant J/(kb*T)\n",
    "alpha=numpy.random.random_integers(0,1)\n",
    "\n",
    "NMC=100\n",
    "sp = numpy.ones([nx,ny])\n",
    "\n",
    "\n",
    "def energy_at_site(sp,alpha,sigma,ix,iy):\n",
    "    \"\"\" Computes the contribution to the energy for a given spin\n",
    "    at location ix,iy for a lattice with periodic boundary conditions\n",
    "   \n",
    "    Parameters:\n",
    "    ----------\n",
    "    sp: numpy array\n",
    "        array of spins\n",
    "    alpha  : real\n",
    "        coupling constant J/(kb*T)\n",
    "    sigma   : int\n",
    "        spin at site ix,iy\n",
    "    ix   : int\n",
    "        location in x\n",
    "    iy   : int\n",
    "        location in y\n",
    "    \n",
    "   \n",
    "    Returns:\n",
    "    -------\n",
    "    energy: energy for the given configuration\n",
    "    \"\"\"\n",
    "    for i in range(1,NMC+1):\n",
    "        energy=-alpha*sigma*(sp[(ix-1)%nx,iy]+sp[(ix+1)%nx,iy]+sp[ix,(iy-1)%ny]+sp[ix,(iy+1)%ny])\n",
    "\n",
    "    return energy\n",
    "print(energy_at_site(sp,alpha,-1,5,5))\n",
    "pyplot.plot(energy_at_site(sp,alpha,-1,5,5))\n",
    "\n",
    "\n",
    "states= ising_model_metropolis(sp, NMC, nx, ny, alpha)\n",
    "pyplot.plot(states.sum(axis=(1,2)))"
   ]
  },
  {
   "cell_type": "code",
   "execution_count": null,
   "metadata": {
    "collapsed": true
   },
   "outputs": [],
   "source": []
  },
  {
   "cell_type": "code",
   "execution_count": null,
   "metadata": {
    "collapsed": true
   },
   "outputs": [],
   "source": []
  }
 ],
 "metadata": {
  "kernelspec": {
   "display_name": "Python 3",
   "language": "python",
   "name": "python3"
  },
  "language_info": {
   "codemirror_mode": {
    "name": "ipython",
    "version": 3
   },
   "file_extension": ".py",
   "mimetype": "text/x-python",
   "name": "python",
   "nbconvert_exporter": "python",
   "pygments_lexer": "ipython3",
   "version": "3.4.3"
  }
 },
 "nbformat": 4,
 "nbformat_minor": 0
}
